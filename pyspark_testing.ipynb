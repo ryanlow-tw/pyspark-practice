{
 "metadata": {
  "language_info": {
   "codemirror_mode": {
    "name": "ipython",
    "version": 3
   },
   "file_extension": ".py",
   "mimetype": "text/x-python",
   "name": "python",
   "nbconvert_exporter": "python",
   "pygments_lexer": "ipython3",
   "version": "3.8.5"
  },
  "orig_nbformat": 4,
  "kernelspec": {
   "name": "python3",
   "display_name": "Python 3.8.5 64-bit ('ryan': conda)"
  },
  "interpreter": {
   "hash": "e758e920954a60e22168cd8bd106a73d39ff6fd17fcdc89983ccee90739603cf"
  }
 },
 "nbformat": 4,
 "nbformat_minor": 2,
 "cells": [
  {
   "cell_type": "code",
   "execution_count": 1,
   "metadata": {},
   "outputs": [],
   "source": [
    "from pyspark.sql import SparkSession"
   ]
  },
  {
   "cell_type": "code",
   "execution_count": 3,
   "metadata": {},
   "outputs": [],
   "source": [
    "spark = SparkSession.builder.appName(\"pyspark-testing\").getOrCreate()"
   ]
  },
  {
   "cell_type": "code",
   "execution_count": 17,
   "metadata": {},
   "outputs": [],
   "source": [
    "filepath = \"./data/books3000.csv\"\n",
    "df = spark.read.options(\n",
    "    header='True',\n",
    "    inferSchema='True',\n",
    "    delimiter=\",\"\n",
    ").csv(filepath)"
   ]
  },
  {
   "cell_type": "code",
   "execution_count": 14,
   "metadata": {},
   "outputs": [
    {
     "output_type": "execute_result",
     "data": {
      "text/plain": [
       "pyspark.sql.dataframe.DataFrame"
      ]
     },
     "metadata": {},
     "execution_count": 14
    }
   ],
   "source": [
    "type(df)"
   ]
  },
  {
   "cell_type": "code",
   "execution_count": 18,
   "metadata": {},
   "outputs": [
    {
     "output_type": "stream",
     "name": "stdout",
     "text": [
      "root\n |-- id: integer (nullable = true)\n |-- author: string (nullable = true)\n |-- title: string (nullable = true)\n |-- image_url: string (nullable = true)\n |-- small_image_url: string (nullable = true)\n |-- price: integer (nullable = true)\n |-- books_count: integer (nullable = true)\n |-- isbn: string (nullable = true)\n |-- isbn13: double (nullable = true)\n |-- original_publication_year: integer (nullable = true)\n |-- original_title: string (nullable = true)\n |-- language_code: string (nullable = true)\n |-- average_rating: double (nullable = true)\n\n"
     ]
    }
   ],
   "source": [
    "df.printSchema()"
   ]
  },
  {
   "cell_type": "code",
   "execution_count": 22,
   "metadata": {},
   "outputs": [
    {
     "output_type": "stream",
     "name": "stdout",
     "text": [
      "-RECORD 0------------------------------------------------------------------------------------------------\n id                        | 51                                                                          \n author                    | Cassandra Clare                                                             \n title                     | City of Bones (The Mortal Instruments, #1)                                  \n image_url                 | https://images.gr-assets.com/books/1432730315m/256683.jpg                   \n small_image_url           | https://images.gr-assets.com/books/1432730315s/256683.jpg                   \n price                     | 1461                                                                        \n books_count               | 178                                                                         \n isbn                      | 1416914285                                                                  \n isbn13                    | 9.78142E12                                                                  \n original_publication_year | 2007                                                                        \n original_title            | City of Bones                                                               \n language_code             | eng                                                                         \n average_rating            | 4.12                                                                        \n-RECORD 1------------------------------------------------------------------------------------------------\n id                        | 52                                                                          \n author                    | Stephenie Meyer                                                             \n title                     | Eclipse (Twilight, #3)                                                      \n image_url                 | https://images.gr-assets.com/books/1361038355m/428263.jpg                   \n small_image_url           | https://images.gr-assets.com/books/1361038355s/428263.jpg                   \n price                     | 2335                                                                        \n books_count               | 185                                                                         \n isbn                      | 316160202                                                                   \n isbn13                    | 9.78032E12                                                                  \n original_publication_year | 2007                                                                        \n original_title            | Eclipse                                                                     \n language_code             | en-US                                                                       \n average_rating            | 3.69                                                                        \n-RECORD 2------------------------------------------------------------------------------------------------\n id                        | 53                                                                          \n author                    | Christopher Paolini                                                         \n title                     | Eragon (The Inheritance Cycle, #1)                                          \n image_url                 | https://images.gr-assets.com/books/1366212852m/113436.jpg                   \n small_image_url           | https://images.gr-assets.com/books/1366212852s/113436.jpg                   \n price                     | 2098                                                                        \n books_count               | 217                                                                         \n isbn                      | 375826696                                                                   \n isbn13                    | 9.78038E12                                                                  \n original_publication_year | 2002                                                                        \n original_title            | Eragon                                                                      \n language_code             | en-US                                                                       \n average_rating            | 3.86                                                                        \n-RECORD 3------------------------------------------------------------------------------------------------\n id                        | 54                                                                          \n author                    | Douglas Adams                                                               \n title                     | The Hitchhiker's Guide to the Galaxy (Hitchhiker's Guide to the Galaxy, #1) \n image_url                 | https://images.gr-assets.com/books/1327656754m/11.jpg                       \n small_image_url           | https://images.gr-assets.com/books/1327656754s/11.jpg                       \n price                     | 3074                                                                        \n books_count               | 257                                                                         \n isbn                      | 345391802                                                                   \n isbn13                    | 9.78035E12                                                                  \n original_publication_year | 1979                                                                        \n original_title            | The Hitchhiker's Guide to the Galaxy                                        \n language_code             | en-US                                                                       \n average_rating            | 4.2                                                                         \n-RECORD 4------------------------------------------------------------------------------------------------\n id                        | 55                                                                          \n author                    | Aldous Huxley                                                               \n title                     | Brave New World                                                             \n image_url                 | https://images.gr-assets.com/books/1487389574m/5129.jpg                     \n small_image_url           | https://images.gr-assets.com/books/1487389574s/5129.jpg                     \n price                     | 2891                                                                        \n books_count               | 515                                                                         \n isbn                      | 60929871                                                                    \n isbn13                    | 9.78006E12                                                                  \n original_publication_year | 1932                                                                        \n original_title            | Brave New World                                                             \n language_code             | eng                                                                         \n average_rating            | 3.97                                                                        \nonly showing top 5 rows\n\n"
     ]
    }
   ],
   "source": [
    "df.show(n=5, truncate=False, vertical=True)"
   ]
  },
  {
   "cell_type": "code",
   "execution_count": 24,
   "metadata": {},
   "outputs": [
    {
     "output_type": "stream",
     "name": "stdout",
     "text": [
      "-RECORD 0------------------------\n id                        | 0   \n author                    | 0   \n title                     | 0   \n image_url                 | 0   \n small_image_url           | 0   \n price                     | 0   \n books_count               | 0   \n isbn                      | 0   \n isbn13                    | 0   \n original_publication_year | 0   \n original_title            | 0   \n language_code             | 0   \n average_rating            | 0   \n\n"
     ]
    }
   ],
   "source": [
    "from pyspark.sql.functions import isnan, when, count, col\n",
    "\n",
    "df.select([count(when(isnan(c), c)).alias(c) for c in df.columns]).show(truncate=False, vertical=True)"
   ]
  },
  {
   "cell_type": "code",
   "execution_count": 26,
   "metadata": {},
   "outputs": [
    {
     "output_type": "stream",
     "name": "stdout",
     "text": [
      "+---------+\n|count(id)|\n+---------+\n|     2999|\n+---------+\n\n"
     ]
    }
   ],
   "source": [
    "df.select(count(\"id\")).show()"
   ]
  },
  {
   "cell_type": "code",
   "execution_count": 32,
   "metadata": {},
   "outputs": [
    {
     "output_type": "stream",
     "name": "stdout",
     "text": [
      "+------------------------------------------------+\n|CASE WHEN isnan(price) AS `hello!` THEN true END|\n+------------------------------------------------+\n|                                            null|\n|                                            null|\n|                                            null|\n|                                            null|\n|                                            null|\n|                                            null|\n|                                            null|\n|                                            null|\n|                                            null|\n|                                            null|\n|                                            null|\n|                                            null|\n|                                            null|\n|                                            null|\n|                                            null|\n|                                            null|\n|                                            null|\n|                                            null|\n|                                            null|\n|                                            null|\n+------------------------------------------------+\nonly showing top 20 rows\n\n"
     ]
    }
   ],
   "source": [
    "df.select(when(isnan('price').alias(\"hello!\"), True)).show()"
   ]
  },
  {
   "cell_type": "code",
   "execution_count": 33,
   "metadata": {},
   "outputs": [
    {
     "output_type": "error",
     "ename": "SyntaxError",
     "evalue": "invalid syntax (<ipython-input-33-4594d9956205>, line 2)",
     "traceback": [
      "\u001b[0;36m  File \u001b[0;32m\"<ipython-input-33-4594d9956205>\"\u001b[0;36m, line \u001b[0;32m2\u001b[0m\n\u001b[0;31m    \"high\" = 5*0.75,\u001b[0m\n\u001b[0m           ^\u001b[0m\n\u001b[0;31mSyntaxError\u001b[0m\u001b[0;31m:\u001b[0m invalid syntax\n"
     ]
    }
   ],
   "source": [
    "rating_metrics = {\n",
    "    \"high\" = 5*0.75,\n",
    "    \"average\" = 5*0.5,\n",
    "    \"low\" = 5*0.25\n",
    "\n",
    "}"
   ]
  },
  {
   "cell_type": "code",
   "execution_count": null,
   "metadata": {},
   "outputs": [],
   "source": [
    "# average_rating\n",
    "# \n",
    "# high rating"
   ]
  },
  {
   "cell_type": "code",
   "execution_count": null,
   "metadata": {},
   "outputs": [],
   "source": []
  }
 ]
}